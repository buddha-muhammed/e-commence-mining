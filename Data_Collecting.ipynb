{
 "cells": [
  {
   "cell_type": "code",
   "execution_count": 30,
   "metadata": {},
   "outputs": [],
   "source": [
    "import os\n",
    "import requests\n",
    "import codecs\n",
    "from bs4 import BeautifulSoup\n",
    "import pandas as pd"
   ]
  },
  {
   "cell_type": "code",
   "execution_count": 31,
   "metadata": {},
   "outputs": [],
   "source": [
    "# 给请求指定一个请求头来模拟chrome浏览器\n",
    "global headers\n",
    "headers = {'User-Agent': 'Mozilla/5.0 (Windows NT 10.0; Win64; x64) AppleWebKit/537.36 (KHTML, like Gecko) Chrome/54.0.2840.99 Safari/537.36',\n",
    "           'cookie': 'networkwww.douban.comheaders查看cookie'}\n",
    "server = 'https://movie.douban.com/subject/26100958/comments'"
   ]
  },
  {
   "cell_type": "code",
   "execution_count": 32,
   "metadata": {},
   "outputs": [],
   "source": [
    "# 定义存储位置\n",
    "save_path_h = os.getcwd()+\"\\\\comments_sets\\\\\"+'复仇者联盟4_好评.txt'\n",
    "save_path_m = os.getcwd()+\"\\\\comments_sets\\\\\"+'复仇者联盟4_中评.txt'\n",
    "save_path_l = os.getcwd()+\"\\\\comments_sets\\\\\"+'复仇者联盟4_差评.txt'\n",
    "global page_max\n",
    "page_max = 100\n",
    "global comments\n",
    "comments = ''"
   ]
  },
  {
   "cell_type": "code",
   "execution_count": 36,
   "metadata": {},
   "outputs": [],
   "source": [
    "# 获取短评内容\n",
    "def get_comments(page):\n",
    "    req = requests.get(url=page)\n",
    "    html = req.content\n",
    "    html_doc = str(html, 'utf-8')\n",
    "    bf = BeautifulSoup(html_doc, 'html.parser')\n",
    "    comment = bf.find_all(class_=\"short\")\n",
    "    for short in comment:\n",
    "        global comments\n",
    "        comments = comments + short.text + '\\n'\n",
    "        \n",
    "\n",
    "#写入文件\n",
    "def write_txt(chapter, content, code):\n",
    "    with codecs.open(chapter, 'a', encoding=code)as f:\n",
    "        f.write(content)"
   ]
  },
  {
   "cell_type": "code",
   "execution_count": 38,
   "metadata": {},
   "outputs": [],
   "source": [
    "level = ['h','m','l']#好评，中评，差评\n",
    "for k in level:\n",
    "    for i in range(0, page_max):\n",
    "        try:\n",
    "            page = server + '?start='+str(i*20)+'&limit=20&sort=new_score&status=P&percent_type=%c'%k\n",
    "            get_comments(page)\n",
    "            if k == 'h':\n",
    "                write_txt(save_path_h, comments, 'utf8')\n",
    "            elif k == 'm':\n",
    "                write_txt(save_path_m, comments, 'utf8')\n",
    "            elif k == 'l':\n",
    "                write_txt(save_path_l, comments, 'utf8')\n",
    "        except Exception as e:\n",
    "            print(e)\n",
    "    comments = ''\n"
   ]
  },
  {
   "cell_type": "code",
   "execution_count": 43,
   "metadata": {},
   "outputs": [
    {
     "name": "stderr",
     "output_type": "stream",
     "text": [
      "C:\\ProgramData\\Anaconda3\\lib\\site-packages\\ipykernel_launcher.py:1: ParserWarning: Falling back to the 'python' engine because the 'c' engine does not support regex separators (separators > 1 char and different from '\\s+' are interpreted as regex); you can avoid this warning by specifying engine='python'.\n",
      "  \"\"\"Entry point for launching an IPython kernel.\n"
     ]
    },
    {
     "data": {
      "text/html": [
       "<div>\n",
       "<style scoped>\n",
       "    .dataframe tbody tr th:only-of-type {\n",
       "        vertical-align: middle;\n",
       "    }\n",
       "\n",
       "    .dataframe tbody tr th {\n",
       "        vertical-align: top;\n",
       "    }\n",
       "\n",
       "    .dataframe thead th {\n",
       "        text-align: right;\n",
       "    }\n",
       "</style>\n",
       "<table border=\"1\" class=\"dataframe\">\n",
       "  <thead>\n",
       "    <tr style=\"text-align: right;\">\n",
       "      <th></th>\n",
       "      <th>comments</th>\n",
       "    </tr>\n",
       "  </thead>\n",
       "  <tbody>\n",
       "    <tr>\n",
       "      <th>0</th>\n",
       "      <td>如果你不喜欢这部电影，说明他不是为你准备的，故事的终章是为读过故事的人准备的</td>\n",
       "    </tr>\n",
       "    <tr>\n",
       "      <th>1</th>\n",
       "      <td>我是一个90后，我曾经很羡慕“上一代人”：40年前的观众，他们的影院里有星战正传三部曲的落幕...</td>\n",
       "    </tr>\n",
       "    <tr>\n",
       "      <th>2</th>\n",
       "      <td>托尼说好要回归家庭、陪伴家人，可最终还是选择了重出江湖，因为责任和使命，因为“我是钢铁侠”。</td>\n",
       "    </tr>\n",
       "    <tr>\n",
       "      <th>3</th>\n",
       "      <td>美队曾经错过了和卡特的约会，错过陪伴卡特的70年，后来又出席卡特的葬礼，亲自送挚爱上路，感谢...</td>\n",
       "    </tr>\n",
       "    <tr>\n",
       "      <th>4</th>\n",
       "      <td>黑寡妇高尚、豪迈、英勇、无畏，和钢铁侠并列最伟大的复仇者。</td>\n",
       "    </tr>\n",
       "  </tbody>\n",
       "</table>\n",
       "</div>"
      ],
      "text/plain": [
       "                                            comments\n",
       "0             如果你不喜欢这部电影，说明他不是为你准备的，故事的终章是为读过故事的人准备的\n",
       "1  我是一个90后，我曾经很羡慕“上一代人”：40年前的观众，他们的影院里有星战正传三部曲的落幕...\n",
       "2     托尼说好要回归家庭、陪伴家人，可最终还是选择了重出江湖，因为责任和使命，因为“我是钢铁侠”。\n",
       "3  美队曾经错过了和卡特的约会，错过陪伴卡特的70年，后来又出席卡特的葬礼，亲自送挚爱上路，感谢...\n",
       "4                      黑寡妇高尚、豪迈、英勇、无畏，和钢铁侠并列最伟大的复仇者。"
      ]
     },
     "execution_count": 43,
     "metadata": {},
     "output_type": "execute_result"
    }
   ],
   "source": [
    "pos = pd.read_csv('comments_sets/复仇者联盟4_好评.txt',sep = 'ssr',encoding = 'utf-8',header = None)\n",
    "# sep设置为文档内不包含的内容，否则出错\n",
    "pos.columns = ['comments']\n",
    "pos.head()"
   ]
  },
  {
   "cell_type": "code",
   "execution_count": 41,
   "metadata": {},
   "outputs": [
    {
     "name": "stderr",
     "output_type": "stream",
     "text": [
      "C:\\ProgramData\\Anaconda3\\lib\\site-packages\\ipykernel_launcher.py:1: ParserWarning: Falling back to the 'python' engine because the 'c' engine does not support regex separators (separators > 1 char and different from '\\s+' are interpreted as regex); you can avoid this warning by specifying engine='python'.\n",
      "  \"\"\"Entry point for launching an IPython kernel.\n"
     ]
    },
    {
     "data": {
      "text/html": [
       "<div>\n",
       "<style scoped>\n",
       "    .dataframe tbody tr th:only-of-type {\n",
       "        vertical-align: middle;\n",
       "    }\n",
       "\n",
       "    .dataframe tbody tr th {\n",
       "        vertical-align: top;\n",
       "    }\n",
       "\n",
       "    .dataframe thead th {\n",
       "        text-align: right;\n",
       "    }\n",
       "</style>\n",
       "<table border=\"1\" class=\"dataframe\">\n",
       "  <thead>\n",
       "    <tr style=\"text-align: right;\">\n",
       "      <th></th>\n",
       "      <th>comments</th>\n",
       "    </tr>\n",
       "  </thead>\n",
       "  <tbody>\n",
       "    <tr>\n",
       "      <th>0</th>\n",
       "      <td>不打感情分也就合格水准，通篇流水账观感还不如第三部，虽然我一直认为这类片无所谓剧透，不过为了...</td>\n",
       "    </tr>\n",
       "    <tr>\n",
       "      <th>1</th>\n",
       "      <td>最后说一下，钢铁侠作为头号一哥很好地完成了支撑复联的任务，而这个女拳队长无论角色和定位都是彻...</td>\n",
       "    </tr>\n",
       "    <tr>\n",
       "      <th>2</th>\n",
       "      <td>三个小时剧情太拖沓，成了七龙珠寻宝了，堆砌拼凑的剧情，真是不知道浪费睡觉时间来看首映。</td>\n",
       "    </tr>\n",
       "    <tr>\n",
       "      <th>3</th>\n",
       "      <td>复联3是一场寓言故事般的黑色歌剧，惊艳不为过。当所有人都在猜想复联4将用何种巧妙震撼的手法颠...</td>\n",
       "    </tr>\n",
       "    <tr>\n",
       "      <th>4</th>\n",
       "      <td>抱歉，这谢幕我实在吹不出口，剧情逻辑bug我都不care了，人物ooc和潦草处理真的不能接受。</td>\n",
       "    </tr>\n",
       "  </tbody>\n",
       "</table>\n",
       "</div>"
      ],
      "text/plain": [
       "                                            comments\n",
       "0  不打感情分也就合格水准，通篇流水账观感还不如第三部，虽然我一直认为这类片无所谓剧透，不过为了...\n",
       "1  最后说一下，钢铁侠作为头号一哥很好地完成了支撑复联的任务，而这个女拳队长无论角色和定位都是彻...\n",
       "2        三个小时剧情太拖沓，成了七龙珠寻宝了，堆砌拼凑的剧情，真是不知道浪费睡觉时间来看首映。\n",
       "3  复联3是一场寓言故事般的黑色歌剧，惊艳不为过。当所有人都在猜想复联4将用何种巧妙震撼的手法颠...\n",
       "4    抱歉，这谢幕我实在吹不出口，剧情逻辑bug我都不care了，人物ooc和潦草处理真的不能接受。"
      ]
     },
     "execution_count": 41,
     "metadata": {},
     "output_type": "execute_result"
    }
   ],
   "source": [
    "mid = pd.read_csv('comments_sets/复仇者联盟4_中评.txt',sep = 'ssr',encoding = 'utf-8',header = None)\n",
    "mid.columns = ['comments']\n",
    "mid.head()"
   ]
  },
  {
   "cell_type": "code",
   "execution_count": 42,
   "metadata": {},
   "outputs": [
    {
     "name": "stderr",
     "output_type": "stream",
     "text": [
      "C:\\ProgramData\\Anaconda3\\lib\\site-packages\\ipykernel_launcher.py:1: ParserWarning: Falling back to the 'python' engine because the 'c' engine does not support regex separators (separators > 1 char and different from '\\s+' are interpreted as regex); you can avoid this warning by specifying engine='python'.\n",
      "  \"\"\"Entry point for launching an IPython kernel.\n"
     ]
    },
    {
     "data": {
      "text/html": [
       "<div>\n",
       "<style scoped>\n",
       "    .dataframe tbody tr th:only-of-type {\n",
       "        vertical-align: middle;\n",
       "    }\n",
       "\n",
       "    .dataframe tbody tr th {\n",
       "        vertical-align: top;\n",
       "    }\n",
       "\n",
       "    .dataframe thead th {\n",
       "        text-align: right;\n",
       "    }\n",
       "</style>\n",
       "<table border=\"1\" class=\"dataframe\">\n",
       "  <thead>\n",
       "    <tr style=\"text-align: right;\">\n",
       "      <th></th>\n",
       "      <th>comments</th>\n",
       "    </tr>\n",
       "  </thead>\n",
       "  <tbody>\n",
       "    <tr>\n",
       "      <th>0</th>\n",
       "      <td>一群好几百岁的人叽叽歪歪像一群青春期的小孩，三个小时的时长就靠没完没了的与过去的自己相遇+废...</td>\n",
       "    </tr>\n",
       "    <tr>\n",
       "      <th>1</th>\n",
       "      <td>将近300元买的杜比首映场，是真的不值。除了花里胡哨的特效外，一无是处，没有插科打诨和反高潮...</td>\n",
       "    </tr>\n",
       "    <tr>\n",
       "      <th>2</th>\n",
       "      <td>前20分钟真的以为罗素兄弟要捧出什么好菜，适量精准的文戏和反高潮的设置让我眼前一亮。然后电影...</td>\n",
       "    </tr>\n",
       "    <tr>\n",
       "      <th>3</th>\n",
       "      <td>不得不承认流量在这个时代主宰世界</td>\n",
       "    </tr>\n",
       "    <tr>\n",
       "      <th>4</th>\n",
       "      <td>三小时超长CP混剪，还是水准贼烂的那种，十年你就给我这个丢人的玩意作答卷？</td>\n",
       "    </tr>\n",
       "  </tbody>\n",
       "</table>\n",
       "</div>"
      ],
      "text/plain": [
       "                                            comments\n",
       "0  一群好几百岁的人叽叽歪歪像一群青春期的小孩，三个小时的时长就靠没完没了的与过去的自己相遇+废...\n",
       "1  将近300元买的杜比首映场，是真的不值。除了花里胡哨的特效外，一无是处，没有插科打诨和反高潮...\n",
       "2  前20分钟真的以为罗素兄弟要捧出什么好菜，适量精准的文戏和反高潮的设置让我眼前一亮。然后电影...\n",
       "3                                   不得不承认流量在这个时代主宰世界\n",
       "4              三小时超长CP混剪，还是水准贼烂的那种，十年你就给我这个丢人的玩意作答卷？"
      ]
     },
     "execution_count": 42,
     "metadata": {},
     "output_type": "execute_result"
    }
   ],
   "source": [
    "neg = pd.read_csv('comments_sets/复仇者联盟4_差评.txt',sep = 'ssr',encoding = 'utf-8',header = None)\n",
    "neg.columns = ['comments']\n",
    "neg.head()"
   ]
  },
  {
   "cell_type": "code",
   "execution_count": null,
   "metadata": {},
   "outputs": [],
   "source": []
  }
 ],
 "metadata": {
  "kernelspec": {
   "display_name": "Python 3",
   "language": "python",
   "name": "python3"
  },
  "language_info": {
   "codemirror_mode": {
    "name": "ipython",
    "version": 3
   },
   "file_extension": ".py",
   "mimetype": "text/x-python",
   "name": "python",
   "nbconvert_exporter": "python",
   "pygments_lexer": "ipython3",
   "version": "3.6.5"
  }
 },
 "nbformat": 4,
 "nbformat_minor": 2
}
