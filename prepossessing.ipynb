{
 "cells": [
  {
   "cell_type": "code",
   "execution_count": 21,
   "metadata": {},
   "outputs": [],
   "source": [
    "import pandas as pd\n",
    "import jieba"
   ]
  },
  {
   "cell_type": "markdown",
   "metadata": {},
   "source": [
    "# 一、读取《复仇者联盟4》的好评，中评，差评评论数据"
   ]
  },
  {
   "cell_type": "code",
   "execution_count": 22,
   "metadata": {},
   "outputs": [
    {
     "name": "stderr",
     "output_type": "stream",
     "text": [
      "C:\\ProgramData\\Anaconda3\\lib\\site-packages\\ipykernel_launcher.py:2: ParserWarning: Falling back to the 'python' engine because the 'c' engine does not support regex separators (separators > 1 char and different from '\\s+' are interpreted as regex); you can avoid this warning by specifying engine='python'.\n",
      "  \n",
      "C:\\ProgramData\\Anaconda3\\lib\\site-packages\\ipykernel_launcher.py:7: ParserWarning: Falling back to the 'python' engine because the 'c' engine does not support regex separators (separators > 1 char and different from '\\s+' are interpreted as regex); you can avoid this warning by specifying engine='python'.\n",
      "  import sys\n",
      "C:\\ProgramData\\Anaconda3\\lib\\site-packages\\ipykernel_launcher.py:12: ParserWarning: Falling back to the 'python' engine because the 'c' engine does not support regex separators (separators > 1 char and different from '\\s+' are interpreted as regex); you can avoid this warning by specifying engine='python'.\n",
      "  if sys.path[0] == '':\n"
     ]
    }
   ],
   "source": [
    "#好评\n",
    "pos_com =  pd.read_csv('comments_sets/复仇者联盟4_好评.txt',sep = 'ssr',encoding = 'utf-8',header = None)\n",
    "# sep设置为文档内不包含的内容，否则出错\n",
    "pos_com.columns = ['comments']\n",
    "\n",
    "#中评\n",
    "mid_com  = pd.read_csv('comments_sets/复仇者联盟4_中评.txt',sep = 'ssr',encoding = 'utf-8',header = None)\n",
    "mid_com.columns = ['comments']\n",
    "\n",
    "\n",
    "#差评\n",
    "neg_com = pd.read_csv('comments_sets/复仇者联盟4_差评.txt',sep = 'ssr',encoding = 'utf-8',header = None)\n",
    "neg_com.columns = ['comments']"
   ]
  },
  {
   "cell_type": "code",
   "execution_count": 23,
   "metadata": {},
   "outputs": [
    {
     "data": {
      "text/html": [
       "<div>\n",
       "<style scoped>\n",
       "    .dataframe tbody tr th:only-of-type {\n",
       "        vertical-align: middle;\n",
       "    }\n",
       "\n",
       "    .dataframe tbody tr th {\n",
       "        vertical-align: top;\n",
       "    }\n",
       "\n",
       "    .dataframe thead th {\n",
       "        text-align: right;\n",
       "    }\n",
       "</style>\n",
       "<table border=\"1\" class=\"dataframe\">\n",
       "  <thead>\n",
       "    <tr style=\"text-align: right;\">\n",
       "      <th></th>\n",
       "      <th>comments</th>\n",
       "    </tr>\n",
       "  </thead>\n",
       "  <tbody>\n",
       "    <tr>\n",
       "      <th>0</th>\n",
       "      <td>很好看的。。。</td>\n",
       "    </tr>\n",
       "    <tr>\n",
       "      <th>1</th>\n",
       "      <td>终局和开局，漫威宇宙第一季的结尾和第二季的引子，超燃，超豪华，超脑洞，不愧为终局之战！</td>\n",
       "    </tr>\n",
       "    <tr>\n",
       "      <th>2</th>\n",
       "      <td>要什么六个字</td>\n",
       "    </tr>\n",
       "    <tr>\n",
       "      <th>3</th>\n",
       "      <td>钢铁侠凉了唉</td>\n",
       "    </tr>\n",
       "    <tr>\n",
       "      <th>4</th>\n",
       "      <td>好好好好好好好</td>\n",
       "    </tr>\n",
       "  </tbody>\n",
       "</table>\n",
       "</div>"
      ],
      "text/plain": [
       "                                      comments\n",
       "0                                      很好看的。。。\n",
       "1  终局和开局，漫威宇宙第一季的结尾和第二季的引子，超燃，超豪华，超脑洞，不愧为终局之战！\n",
       "2                                       要什么六个字\n",
       "3                                       钢铁侠凉了唉\n",
       "4                                      好好好好好好好"
      ]
     },
     "execution_count": 23,
     "metadata": {},
     "output_type": "execute_result"
    }
   ],
   "source": [
    "pos_com.head()"
   ]
  },
  {
   "cell_type": "code",
   "execution_count": 24,
   "metadata": {},
   "outputs": [
    {
     "name": "stdout",
     "output_type": "stream",
     "text": [
      "好评的评论数为： (212489,)\n",
      "中评的评论数为： (15469,)\n",
      "差评的评论数为： (25415,)\n"
     ]
    }
   ],
   "source": [
    "comment_pos = pos_com['comments']\n",
    "comment_mid = mid_com['comments']\n",
    "comment_neg = neg_com['comments']\n",
    "print('好评的评论数为：',comment_pos.shape)\n",
    "print('中评的评论数为：',comment_mid.shape)\n",
    "print('差评的评论数为：',comment_neg.shape)"
   ]
  },
  {
   "cell_type": "markdown",
   "metadata": {},
   "source": [
    "# 二、去除重复词及水军评论"
   ]
  },
  {
   "cell_type": "code",
   "execution_count": 25,
   "metadata": {},
   "outputs": [],
   "source": [
    "def condense_1(str):\n",
    "\t# 这里i代表每次处理的字符单位数，如i=1时处理“好好好好”的情况，i=2时处理“很好很好很好”的情况\n",
    "\t# i=1&i=2时用一种处理方式，即当重复数量>2时才进行压缩，因为出现“滔滔不绝”、“美的的确好”\n",
    "\t# 跟“容我思考思考”“这真的真的好看”等不好归为冗余的情况。但当出现3次及以上时基本就是冗余了。\n",
    "\tfor i in [1, 2]:\n",
    "\t\tj = 0\n",
    "\t\twhile j + 3 * i < len(str):\n",
    "\t\t\t#判断重复了至少两次\n",
    "\t\t\tif str[j: j+i] == str[j+i: j+2*i] and str[j: j+i] == str[j+2*i: j+3*i]:\n",
    "\t\t\t\tk = j+2*i\n",
    "\t\t\t\twhile k+i<len(str) and str[j: j+i]==str[k+i: k+2*i]:\n",
    "\t\t\t\t\tk += i\n",
    "\t\t\t\tstr = str[: j+i] + str[k+i:]\n",
    "\t\t\tj += 1\n",
    "\t\n",
    "\t# i=3&i=4时用一种处理方式，当重复>1时就进行压缩，因为3个字以上时重复不再构成成语或其他常用语，\n",
    "\t# 基本上即使冗余了。因为大于五个字的重复比较少出现，为了减少算法复杂度可以只处理到i=4。\n",
    "\tfor i in [3, 4, 5]:\n",
    "\t\tj = 0\n",
    "\t\twhile j + 2 * i < len(str):\n",
    "\t\t\t#判断重复了至少一次\n",
    "\t\t\tif str[j: j+i]==str[j+i: j+2*i]:\n",
    "\t\t\t\tk = j+i\n",
    "\t\t\t\twhile k+i<len(str) and str[j: j+i]==str[k+i: k+2*i]:\n",
    "\t\t\t\t\tk += i\n",
    "\t\t\t\tstr = str[: j+i] + str[k+i:]\n",
    "\t\t\tj += 1\n",
    "\t\ti += 1\n",
    "\t\n",
    "\treturn str"
   ]
  },
  {
   "cell_type": "code",
   "execution_count": 26,
   "metadata": {},
   "outputs": [
    {
     "name": "stdout",
     "output_type": "stream",
     "text": [
      "好评的总字符长度为： 4515372\n",
      "中评的总字符长度为： 369595\n",
      "差评的总字符长度为： 582441\n"
     ]
    }
   ],
   "source": [
    "#总评论的字符长度\n",
    "print('好评的总字符长度为：',comment_pos.astype('str').apply(lambda x: len(x)).sum())\n",
    "print('中评的总字符长度为：',comment_mid.astype('str').apply(lambda x: len(x)).sum())\n",
    "print('差评的总字符长度为：',comment_neg.astype('str').apply(lambda x: len(x)).sum())"
   ]
  },
  {
   "cell_type": "code",
   "execution_count": 27,
   "metadata": {},
   "outputs": [
    {
     "name": "stdout",
     "output_type": "stream",
     "text": [
      "去除重复词后的好评的总字符长度为： 4371914\n",
      "去除重复词后的中评的总字符长度为： 363782\n",
      "去除重复词后的差评的总字符长度为： 573373\n"
     ]
    }
   ],
   "source": [
    "data1_pos = comment_pos.astype('str').apply(lambda x: condense_1(x))  # 去除重复词\n",
    "data1_mid = comment_mid.astype('str').apply(lambda x: condense_1(x))  # 去除重复词\n",
    "data1_neg = comment_neg.astype('str').apply(lambda x: condense_1(x))  # 去除重复词\n",
    "\n",
    "#去除重复词后的字符长度\n",
    "print('去除重复词后的好评的总字符长度为：',data1_pos.apply(lambda x: len(x)).sum())\n",
    "print('去除重复词后的中评的总字符长度为：',data1_mid.apply(lambda x: len(x)).sum())\n",
    "print('去除重复词后的差评的总字符长度为：',data1_neg.apply(lambda x: len(x)).sum())\n"
   ]
  },
  {
   "cell_type": "code",
   "execution_count": 30,
   "metadata": {},
   "outputs": [
    {
     "name": "stdout",
     "output_type": "stream",
     "text": [
      "好好好好好好好\n",
      "好\n"
     ]
    }
   ],
   "source": [
    "#example\n",
    "print(comment_pos[4])\n",
    "print(data1_pos[4])"
   ]
  },
  {
   "cell_type": "code",
   "execution_count": 31,
   "metadata": {},
   "outputs": [
    {
     "data": {
      "text/html": [
       "<div>\n",
       "<style scoped>\n",
       "    .dataframe tbody tr th:only-of-type {\n",
       "        vertical-align: middle;\n",
       "    }\n",
       "\n",
       "    .dataframe tbody tr th {\n",
       "        vertical-align: top;\n",
       "    }\n",
       "\n",
       "    .dataframe thead th {\n",
       "        text-align: right;\n",
       "    }\n",
       "</style>\n",
       "<table border=\"1\" class=\"dataframe\">\n",
       "  <thead>\n",
       "    <tr style=\"text-align: right;\">\n",
       "      <th></th>\n",
       "      <th>评论</th>\n",
       "      <th>长度</th>\n",
       "    </tr>\n",
       "  </thead>\n",
       "  <tbody>\n",
       "    <tr>\n",
       "      <th>0</th>\n",
       "      <td>老套剧情，看了开头就知道结尾！</td>\n",
       "      <td>15</td>\n",
       "    </tr>\n",
       "    <tr>\n",
       "      <th>1</th>\n",
       "      <td>垃圾电影！！</td>\n",
       "      <td>6</td>\n",
       "    </tr>\n",
       "    <tr>\n",
       "      <th>2</th>\n",
       "      <td>花了钱并没有看 为什么 因为娃去看的</td>\n",
       "      <td>18</td>\n",
       "    </tr>\n",
       "    <tr>\n",
       "      <th>3</th>\n",
       "      <td>看完电影对象黄了，就这么简单</td>\n",
       "      <td>14</td>\n",
       "    </tr>\n",
       "    <tr>\n",
       "      <th>4</th>\n",
       "      <td>一般下吧啊</td>\n",
       "      <td>5</td>\n",
       "    </tr>\n",
       "  </tbody>\n",
       "</table>\n",
       "</div>"
      ],
      "text/plain": [
       "                   评论  长度\n",
       "0     老套剧情，看了开头就知道结尾！  15\n",
       "1              垃圾电影！！   6\n",
       "2  花了钱并没有看 为什么 因为娃去看的  18\n",
       "3      看完电影对象黄了，就这么简单  14\n",
       "4               一般下吧啊   5"
      ]
     },
     "execution_count": 31,
     "metadata": {},
     "output_type": "execute_result"
    }
   ],
   "source": [
    "data2_pos = data1_pos.apply(lambda x: len(x))\n",
    "data2_mid = data1_mid.apply(lambda x: len(x))\n",
    "data2_neg = data1_neg.apply(lambda x: len(x))\n",
    "\n",
    "data3_pos = pd.concat((data1_pos, data2_pos), axis = 1)  # 合并\n",
    "data3_pos.columns = ['评论','长度']\n",
    "data3_mid = pd.concat((data1_mid, data2_mid), axis = 1)  # 合并\n",
    "data3_mid.columns = ['评论','长度']\n",
    "data3_neg = pd.concat((data1_neg, data2_neg), axis = 1)  # 合并\n",
    "data3_neg.columns = ['评论','长度']\n",
    "\n",
    "data3_neg.head()"
   ]
  },
  {
   "cell_type": "code",
   "execution_count": 32,
   "metadata": {},
   "outputs": [
    {
     "name": "stdout",
     "output_type": "stream",
     "text": [
      "好评非水军评论 (196761,)\n",
      "中评非水军评论 (14836,)\n",
      "差评非水军评论 (24729,)\n"
     ]
    }
   ],
   "source": [
    "data4_pos = data3_pos.loc[data3_pos['长度'] > 5, '评论']  # 筛选长度大于5的评论\n",
    "print('好评非水军评论',data4_pos.shape)\n",
    "\n",
    "data4_mid = data3_mid.loc[data3_mid['长度'] > 5, '评论']  # 筛选长度大于5的评论\n",
    "print('中评非水军评论',data4_mid.shape)\n",
    "\n",
    "data4_neg = data3_neg.loc[data3_neg['长度'] > 5, '评论']  # 筛选长度大于5的评论\n",
    "print('差评非水军评论',data4_neg.shape)"
   ]
  },
  {
   "cell_type": "code",
   "execution_count": 33,
   "metadata": {},
   "outputs": [
    {
     "data": {
      "text/plain": [
       "0                                        很好看的。。。\n",
       "1    终局和开局，漫威宇宙第一季的结尾和第二季的引子，超燃，超豪华，超脑洞，不愧为终局之战！\n",
       "2                                         要什么六个字\n",
       "3                                         钢铁侠凉了唉\n",
       "5                                        还行吧 还行吧\n",
       "Name: 评论, dtype: object"
      ]
     },
     "execution_count": 33,
     "metadata": {},
     "output_type": "execute_result"
    }
   ],
   "source": [
    "data4_pos.head()"
   ]
  },
  {
   "cell_type": "markdown",
   "metadata": {},
   "source": [
    "# 三、分词"
   ]
  },
  {
   "cell_type": "code",
   "execution_count": 34,
   "metadata": {},
   "outputs": [
    {
     "data": {
      "text/plain": [
       "['我', '爱', '北京', '天安门', '，', '天安门', '前', '国旗', '升']"
      ]
     },
     "execution_count": 34,
     "metadata": {},
     "output_type": "execute_result"
    }
   ],
   "source": [
    "import jieba\n",
    "#example\n",
    "list(jieba.cut('我爱北京天安门，天安门前国旗升'))"
   ]
  },
  {
   "cell_type": "code",
   "execution_count": 35,
   "metadata": {},
   "outputs": [
    {
     "data": {
      "text/plain": [
       "0                                  [很, 好看, 的, 。, 。, 。]\n",
       "1    [终局, 和, 开局, ，, 漫威, 宇宙, 第一季, 的, 结尾, 和, 第二季, 的, ...\n",
       "2                                       [要, 什么, 六个, 字]\n",
       "3                                       [钢铁, 侠凉, 了, 唉]\n",
       "5                                    [还行, 吧,  , 还行, 吧]\n",
       "Name: 评论, dtype: object"
      ]
     },
     "execution_count": 35,
     "metadata": {},
     "output_type": "execute_result"
    }
   ],
   "source": [
    "#好评\n",
    "data5_pos = data4_pos.apply(lambda x: list(jieba.cut(x)))  \n",
    "#中评\n",
    "data5_mid = data4_mid.apply(lambda x: list(jieba.cut(x))) \n",
    "#差评\n",
    "data5_neg = data4_neg.apply(lambda x: list(jieba.cut(x)))\n",
    "\n",
    "data5_pos.head()"
   ]
  },
  {
   "cell_type": "markdown",
   "metadata": {},
   "source": [
    "# 四、去停用词"
   ]
  },
  {
   "cell_type": "code",
   "execution_count": 36,
   "metadata": {},
   "outputs": [
    {
     "name": "stderr",
     "output_type": "stream",
     "text": [
      "C:\\ProgramData\\Anaconda3\\lib\\site-packages\\ipykernel_launcher.py:2: ParserWarning: Falling back to the 'python' engine because the 'c' engine does not support regex separators (separators > 1 char and different from '\\s+' are interpreted as regex); you can avoid this warning by specifying engine='python'.\n",
      "  \n"
     ]
    }
   ],
   "source": [
    "#读取网上下载的停用词表\n",
    "stop = pd.read_csv('stoplist.txt', sep='aab', encoding = 'utf-8', header = None)\n",
    "# sep设置为文档内不包含的内容，否则出错\n",
    "stop = ['漫威','电影'] + [' ', ''] + list(stop[0]) \t#Pandas自动过滤了空格符，这里手动添加"
   ]
  },
  {
   "cell_type": "code",
   "execution_count": 37,
   "metadata": {},
   "outputs": [],
   "source": [
    "data6_pos = data5_pos.apply(lambda x: [i for i in x if i not in stop])\n",
    "\n",
    "data6_mid = data5_mid.apply(lambda x: [i for i in x if i not in stop])\n",
    "\n",
    "data6_neg = data5_neg.apply(lambda x: [i for i in x if i not in stop])\n"
   ]
  },
  {
   "cell_type": "code",
   "execution_count": 38,
   "metadata": {},
   "outputs": [
    {
     "name": "stdout",
     "output_type": "stream",
     "text": [
      "去停用词后的好评字符总长: 1210519 减少长度: 1540913\n",
      "去停用词后的中评字符总长: 96313 减少长度: 133895\n",
      "去停用词后的差评字符总长: 157821 减少长度: 209042\n"
     ]
    }
   ],
   "source": [
    "print('去停用词后的好评字符总长:',data6_pos.apply(lambda x: len(x)).sum(),'减少长度:',\\\n",
    "     data5_pos.apply(lambda x: len(x)).sum() - data6_pos.apply(lambda x: len(x)).sum())\n",
    "\n",
    "print('去停用词后的中评字符总长:',data6_mid.apply(lambda x: len(x)).sum(),'减少长度:',\\\n",
    "     data5_mid.apply(lambda x: len(x)).sum() - data6_mid.apply(lambda x: len(x)).sum())\n",
    "\n",
    "print('去停用词后的差评字符总长:',data6_neg.apply(lambda x: len(x)).sum(),'减少长度:',\\\n",
    "     data5_neg.apply(lambda x: len(x)).sum() - data6_neg.apply(lambda x: len(x)).sum())"
   ]
  },
  {
   "cell_type": "code",
   "execution_count": 39,
   "metadata": {},
   "outputs": [
    {
     "data": {
      "text/plain": [
       "0                                                 [好看]\n",
       "1    [终局, 开局, 宇宙, 第一季, 结尾, 第二季, 引子, 超燃, 超, 豪华, 超脑, ...\n",
       "2                                              [六个, 字]\n",
       "3                                             [钢铁, 侠凉]\n",
       "5                                             [还行, 还行]\n",
       "Name: 评论, dtype: object"
      ]
     },
     "execution_count": 39,
     "metadata": {},
     "output_type": "execute_result"
    }
   ],
   "source": [
    "data6_pos.head()"
   ]
  },
  {
   "cell_type": "code",
   "execution_count": 40,
   "metadata": {},
   "outputs": [
    {
     "data": {
      "text/plain": [
       "0          []\n",
       "1        [服务]\n",
       "2    [情怀, 支撑]\n",
       "3         [困]\n",
       "4    [剧情, 特效]\n",
       "Name: 评论, dtype: object"
      ]
     },
     "execution_count": 40,
     "metadata": {},
     "output_type": "execute_result"
    }
   ],
   "source": [
    "data6_mid.head()"
   ]
  },
  {
   "cell_type": "code",
   "execution_count": 41,
   "metadata": {},
   "outputs": [
    {
     "data": {
      "text/plain": [
       "0     [老套, 剧情, 开头, 结尾]\n",
       "1                 [垃圾]\n",
       "2           [花, 钱, 娃去]\n",
       "3         [对象, 黄了, 简单]\n",
       "5    [感觉, 特技, 没什么, 可看]\n",
       "Name: 评论, dtype: object"
      ]
     },
     "execution_count": 41,
     "metadata": {},
     "output_type": "execute_result"
    }
   ],
   "source": [
    "data6_neg.head()"
   ]
  },
  {
   "cell_type": "code",
   "execution_count": 42,
   "metadata": {},
   "outputs": [],
   "source": [
    "#保存好评，中评，差评的经过预处理的数据\n",
    "data6_pos.to_csv('comments_sets/pre_pos.txt',encoding = 'utf-8', index = False, header = False)\n",
    "\n",
    "data6_mid.to_csv('comments_sets/pre_mid.txt',encoding = 'utf-8', index = False, header = False)\n",
    "\n",
    "data6_neg.to_csv('comments_sets/pre_neg.txt',encoding = 'utf-8', index = False, header = False)"
   ]
  },
  {
   "cell_type": "code",
   "execution_count": 43,
   "metadata": {},
   "outputs": [],
   "source": [
    "#end"
   ]
  }
 ],
 "metadata": {
  "kernelspec": {
   "display_name": "Python 3",
   "language": "python",
   "name": "python3"
  },
  "language_info": {
   "codemirror_mode": {
    "name": "ipython",
    "version": 3
   },
   "file_extension": ".py",
   "mimetype": "text/x-python",
   "name": "python",
   "nbconvert_exporter": "python",
   "pygments_lexer": "ipython3",
   "version": "3.6.5"
  }
 },
 "nbformat": 4,
 "nbformat_minor": 2
}
